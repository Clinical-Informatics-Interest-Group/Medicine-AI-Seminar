{
 "cells": [
  {
   "cell_type": "markdown",
   "metadata": {},
   "source": [
    "[![Open In Colab](https://colab.research.google.com/assets/colab-badge.svg)](https://colab.research.google.com/github/Clinical-Informatics-Interest-Group/Medicine-AI-Seminar/blob/main/session_2/IntroML.ipynb)"
   ]
  },
  {
   "cell_type": "markdown",
   "metadata": {},
   "source": [
    "# Extremely Short intro to Python\n",
    "### (and Jupyter Notebooks)\n",
    "\n",
    "Python is one of the most popular Machine Learning languages in academia and industry.  \n",
    "It's also thankfully easier to read than many other programming languages."
   ]
  },
  {
   "cell_type": "code",
   "execution_count": null,
   "metadata": {},
   "outputs": [],
   "source": [
    "# Place your cursor in this cell and press 'shift' + 'enter'\n",
    "print(\"Hello, medical students!\")"
   ]
  },
  {
   "cell_type": "code",
   "execution_count": null,
   "metadata": {},
   "outputs": [],
   "source": [
    "# print(\"Hello, medical students\")"
   ]
  },
  {
   "cell_type": "code",
   "execution_count": null,
   "metadata": {},
   "outputs": [],
   "source": [
    "# Nothing happened there ^ because the line started with '#'.\n",
    "# Coders call this \"commenting out\" code. In python, any line that starts with '#' is\n",
    "# not evaluated."
   ]
  },
  {
   "cell_type": "code",
   "execution_count": null,
   "metadata": {},
   "outputs": [],
   "source": [
    "# Python does math well, too.\n",
    "1 + 1"
   ]
  },
  {
   "cell_type": "code",
   "execution_count": null,
   "metadata": {},
   "outputs": [],
   "source": [
    "# If you want more information about a function from Jupyter, simply place a '?' in front\n",
    "# of it and evaulate it with 'shift+enter'.\n",
    "?print"
   ]
  },
  {
   "cell_type": "markdown",
   "metadata": {},
   "source": [
    "# [Breast Cancer Wisconsin Dataset](https://archive.ics.uci.edu/ml/datasets/Breast+Cancer+Wisconsin+(Diagnostic))\n",
    "\"Features are computed from a digitized image of a fine needle aspirate (FNA) of a breast mass. They describe characteristics of the cell nuclei present in the image.\"  \n",
    "https://scikit-learn.org/stable/datasets/toy_dataset.html"
   ]
  },
  {
   "cell_type": "markdown",
   "metadata": {},
   "source": [
    "# First let's train our own neurons\n",
    "![img](./images/histology.webp)\n",
    "Rakha, Emad & Reis-Filho, Jorge & Baehner, Frederick & Dabbs, David & Decker, Thomas & Eusebi, Vincenzo & Fox, Stephen & Ichihara, Shu & Jacquemier, Jocelyne & Lakhani, Sr & Palacios, José & Richardson, Andrea & Schnitt, Stuart & Schmitt, Fernando & Tan, Puay-Hoon & Tse, Gary & Badve, Sunil & Ellis, Ian. (2010). Breast cancer prognostic classification in the molecular era: the role of histological grade. Breast cancer research : BCR. 12. 207. 10.1186/bcr2607. "
   ]
  },
  {
   "cell_type": "code",
   "execution_count": null,
   "metadata": {},
   "outputs": [],
   "source": [
    "# These import statements bring new functions for us to use.\n",
    "# This saves us from having to write them ourselves.\n",
    "from sklearn import datasets\n",
    "import pandas as pd\n",
    "\n",
    "# Let's use a function from 'datasets' to load the breast cancer data\n",
    "# and assign it to 'tumor'\n",
    "tumor = datasets.load_breast_cancer()"
   ]
  },
  {
   "cell_type": "code",
   "execution_count": null,
   "metadata": {},
   "outputs": [],
   "source": [
    "# In order to \"Hold Out\" half the data for validation\n",
    "# we need to write some code that allows us to separate\n",
    "# it at the halfway point.\n",
    "\n",
    "# Find the length of the data set\n",
    "length = len(tumor.data)\n",
    "# Halfway point\n",
    "midpoint = (length // 2)\n",
    "# New start point\n",
    "secondhalf = midpoint + 1"
   ]
  },
  {
   "cell_type": "code",
   "execution_count": null,
   "metadata": {},
   "outputs": [],
   "source": [
    "# Assign the data features (independant variables) to a matrix 'X'\n",
    "# which the Perceptron will make predictions on. 'y' is the ground\n",
    "# truth the Perceptron will compare it's predictions to.\n",
    "X = pd.DataFrame(tumor.data[:midpoint, :])\n",
    "y = tumor.target[:midpoint]\n",
    "# We'll hold some data from model testing in order to test its \"real world\" performance\n",
    "X_validate = pd.DataFrame(tumor.data[secondhalf:, :])\n",
    "y_validate = tumor.target[secondhalf:]"
   ]
  },
  {
   "cell_type": "code",
   "execution_count": null,
   "metadata": {},
   "outputs": [],
   "source": [
    "from sklearn.model_selection import train_test_split\n",
    "\n",
    "# Here, we tell 'train_test_split' to take 30% of our training\n",
    "# data set and assign it to X_test. X_train is the data the perceptron\n",
    "# will learn from by predicting malignant or not. X_test is the data\n",
    "# internally validates the trained algorithm.\n",
    "X_train, X_test, y_train, y_test = train_test_split(\n",
    "    X, y, test_size=0.3, random_state=1, stratify=y)"
   ]
  },
  {
   "cell_type": "code",
   "execution_count": null,
   "metadata": {},
   "outputs": [],
   "source": [
    "# Evaluate 'X' to see the data in a nice table\n",
    "X"
   ]
  },
  {
   "cell_type": "code",
   "execution_count": null,
   "metadata": {},
   "outputs": [],
   "source": [
    "# Calling the 'describe' method on X returns some useful information\n",
    "X.describe()"
   ]
  },
  {
   "cell_type": "code",
   "execution_count": null,
   "metadata": {},
   "outputs": [],
   "source": [
    "# It's important to standardize the numerical values in every feature, so that no feature is disproportionally weighted.\n",
    "from sklearn.preprocessing import StandardScaler\n",
    "\n",
    "# We should fit the 'Standard Scaler' to the data we're going to train the Perceptron on.\n",
    "sc = StandardScaler()\n",
    "sc.fit(X_train)\n",
    "# And then standardize the data by transforming it with the fit 'Standard Scaler'\n",
    "X_train_std = sc.transform(X_train)\n",
    "# Now apply the same standardizing to the test and validation sets\n",
    "X_test_std = sc.transform(X_test)\n",
    "X_valid_std = sc.transform(X_validate)"
   ]
  },
  {
   "cell_type": "code",
   "execution_count": null,
   "metadata": {},
   "outputs": [],
   "source": [
    "from sklearn.linear_model import Perceptron\n",
    "\n",
    "# Let's call the Perceptron we're about to train 'neuron', and give it\n",
    "# two initial instructions (in the form of parameters). 'eta0' is the \"learning\n",
    "# rate\", which tell's the Perceptron how much it should change its predictions\n",
    "# each time it gets them wrong. 'random_state=1' tells the Perceptron to randomly\n",
    "# weight each feature of the data from the start.\n",
    "neuron = Perceptron(eta0=0.1, random_state=1)\n",
    "\n",
    "# Next we'll tell neuron to learn from the data features 'X_train_std' by attempting to predict\n",
    "# the outcome 'y_train'\n",
    "neuron.fit(X_train_std, y_train)"
   ]
  },
  {
   "cell_type": "code",
   "execution_count": null,
   "metadata": {},
   "outputs": [],
   "source": [
    "# Check the accuracy by scoring 'neuron' against the test data\n",
    "neuron.score(X_test_std, y_test)"
   ]
  },
  {
   "cell_type": "code",
   "execution_count": null,
   "metadata": {},
   "outputs": [],
   "source": [
    "# Let's see what happens if we only allow the Perceptron to learn\n",
    "# from a single prediction.\n",
    "weak_neuron = Perceptron(max_iter=1, eta0=0.1, random_state=1)\n",
    "weak_neuron.fit(X_train_std, y_train)\n",
    "weak_neuron.score(X_test_std, y_test)"
   ]
  },
  {
   "cell_type": "code",
   "execution_count": null,
   "metadata": {},
   "outputs": [],
   "source": [
    "# Lastly, we validate the neuron with the validation\n",
    "# data held out from training.\n",
    "neuron.score(X_valid_std, y_validate)"
   ]
  },
  {
   "cell_type": "markdown",
   "metadata": {},
   "source": [
    "# Breast Cancer Diagnosis by Fine Needle Aspirate\n",
    "- Sensitivity: 74 percent (95% CI 72 to 77 percent)\n",
    "- Specificity: 96 percent (95% CI 94 to 98 percent)\n",
    "\n",
    "Wang M, He X, Chang Y, Sun G, Thabane L. \"A sensitivity and specificity comparison of fine needle aspiration cytology and core needle biopsy in evaluation of suspicious breast lesions: A systematic review and meta-analysis.\" Breast. 2017;31:157. Epub 2016 Nov 17. "
   ]
  },
  {
   "cell_type": "code",
   "execution_count": null,
   "metadata": {},
   "outputs": [],
   "source": [
    "from sklearn.metrics import confusion_matrix\n",
    "\n",
    "# Explore this code to see how we can describe the\n",
    "# sensitivity and specificity of our 'neuron'\n",
    "y_validate_pred = neuron.predict(X_valid_std)\n",
    "confusion_matrix(y_validate, y_validate_pred)"
   ]
  },
  {
   "cell_type": "code",
   "execution_count": null,
   "metadata": {},
   "outputs": [],
   "source": [
    "tn, fp, fn, tp = confusion_matrix(y_validate, y_validate_pred).ravel()\n",
    "sensitivity = tp / (tp + fn)\n",
    "specificity = tn / (tn + fp)\n",
    "print('Sensitivity : ', sensitivity)\n",
    "print('Specificity : ', specificity)"
   ]
  }
 ],
 "metadata": {
  "kernelspec": {
   "display_name": "Python 3",
   "language": "python",
   "name": "python3"
  },
  "language_info": {
   "codemirror_mode": {
    "name": "ipython",
    "version": 3
   },
   "file_extension": ".py",
   "mimetype": "text/x-python",
   "name": "python",
   "nbconvert_exporter": "python",
   "pygments_lexer": "ipython3",
   "version": "3.9.5"
  },
  "toc-showcode": true
 },
 "nbformat": 4,
 "nbformat_minor": 4
}
