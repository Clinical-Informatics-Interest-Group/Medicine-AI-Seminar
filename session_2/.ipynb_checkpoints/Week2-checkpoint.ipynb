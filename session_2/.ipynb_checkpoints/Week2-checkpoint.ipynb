{
 "cells": [
  {
   "cell_type": "markdown",
   "id": "333b839c-b63a-4ca7-9f6b-bf8dc43323d9",
   "metadata": {
    "slideshow": {
     "slide_type": "slide"
    },
    "tags": []
   },
   "source": [
    "# Introduction to Machine Learning\n",
    "### for medical students"
   ]
  },
  {
   "cell_type": "markdown",
   "id": "95f17f0b-b44d-4f24-a01b-8a3ebb33c7c5",
   "metadata": {
    "slideshow": {
     "slide_type": "subslide"
    },
    "tags": []
   },
   "source": [
    "# Today\n",
    "\n",
    "1. Brainstorm Machine Learning (ML) examples or ideas  \n",
    " - Make it stick!\n",
    "2. Overview of ML domains\n",
    "3. Concepts & Terminology\n",
    "4. Perceptron Exercise"
   ]
  },
  {
   "cell_type": "markdown",
   "id": "5ab4747d-f421-498a-86bf-06f7d3b0b032",
   "metadata": {
    "slideshow": {
     "slide_type": "slide"
    },
    "tags": []
   },
   "source": [
    "## Machine Learning\n",
    "\n",
    " - Supervised\n",
    " - Unsupervised\n",
    " - Reinforcement"
   ]
  },
  {
   "cell_type": "markdown",
   "id": "7ea8c617-87ce-431b-8177-e28c96efea5a",
   "metadata": {
    "slideshow": {
     "slide_type": "slide"
    },
    "tags": []
   },
   "source": [
    "### Supervised Learning\n",
    "- Labeled Data\n",
    "- Based on direct feedback\n",
    "- Make predictions"
   ]
  },
  {
   "cell_type": "markdown",
   "id": "e5268ed7-1b48-4470-9507-2c549248b636",
   "metadata": {
    "slideshow": {
     "slide_type": "subslide"
    },
    "tags": []
   },
   "source": [
    "- **Classification**: Donut or Bagel  \n",
    "![img](./images/donut.jpeg) ![img](./images/bagel.jpeg)  "
   ]
  },
  {
   "cell_type": "markdown",
   "id": "0c199118-f841-41d5-a265-79ac35539352",
   "metadata": {
    "slideshow": {
     "slide_type": "subslide"
    },
    "tags": []
   },
   "source": [
    "- **Regression**: Predict the cost of donuts or bagels from various attributes like zip code, vendor, flavor, and so on.  \n",
    "![img](./images/money.jpeg)  "
   ]
  },
  {
   "cell_type": "markdown",
   "id": "786517c4-e3dc-4edc-9c03-e285925e5e69",
   "metadata": {
    "slideshow": {
     "slide_type": "subslide"
    },
    "tags": []
   },
   "source": [
    "### Challenges with Supervised Learning in Healthcare\n",
    "How much labeled data does it take to train an ML model?  "
   ]
  },
  {
   "cell_type": "markdown",
   "id": "69006890-1b65-4960-8f39-9cd61c652c48",
   "metadata": {
    "slideshow": {
     "slide_type": "subslide"
    },
    "tags": []
   },
   "source": [
    "#### Facebook had 2.8 Billion users during 'Q1 2021. [1](#bibliography)  \n",
    "\n",
    "\n",
    "#### Kaiser Permanente has 12.5 million patients. [2](#bibliography)"
   ]
  },
  {
   "cell_type": "markdown",
   "id": "a49f1e76-f366-4471-9e73-d763439b8474",
   "metadata": {
    "slideshow": {
     "slide_type": "subslide"
    },
    "tags": []
   },
   "source": [
    "### Is Federated Learning the way?\n",
    "\n",
    "![img](./images/fedlearn.png)  \n",
    "Google AI Blog. “Federated Learning: Collaborative Machine Learning without Centralized Training Data.” Accessed June 23, 2021. http://ai.googleblog.com/2017/04/federated-learning-collaborative.html.\n"
   ]
  },
  {
   "cell_type": "raw",
   "id": "cf3b1bd3-0022-41ea-9f5d-a597d9571c6f",
   "metadata": {
    "slideshow": {
     "slide_type": "notes"
    },
    "tags": []
   },
   "source": [
    "Is this an argument for shared data? Isn't HIPAA about *portability*???\n",
    "What about federated learning?"
   ]
  },
  {
   "cell_type": "markdown",
   "id": "43b22aea-5209-48f7-a8b7-9564f80c9829",
   "metadata": {
    "slideshow": {
     "slide_type": "slide"
    },
    "tags": []
   },
   "source": [
    "### Unsupervised Learning\n",
    "- Data without class labels\n",
    "- Find hidden structure of complex data"
   ]
  },
  {
   "cell_type": "markdown",
   "id": "a84c32bf-baa0-49d0-86ff-6539dbfd9f4a",
   "metadata": {
    "slideshow": {
     "slide_type": "subslide"
    },
    "tags": []
   },
   "source": [
    "#### Used in marketing to identify groups of people.\n",
    "\n",
    "![img](./images/tea.png)  "
   ]
  },
  {
   "cell_type": "markdown",
   "id": "8272a0c3-beba-4c25-a710-456191663226",
   "metadata": {
    "slideshow": {
     "slide_type": "subslide"
    },
    "tags": []
   },
   "source": [
    "#### Feature selection or **Dimensionality Reduction**\n",
    "\n",
    "If we want to predict hospital readmissions and we know:\n",
    "- length of stay\n",
    "- blood glucose\n",
    "- cholesterol\n",
    "- HbA1c\n",
    "- blood pressure\n",
    "- weight\n",
    "- history of metabolic syndrome\n",
    "- ..."
   ]
  },
  {
   "cell_type": "markdown",
   "id": "a2464a00-6748-418e-b5cc-14c2c4f6744b",
   "metadata": {
    "slideshow": {
     "slide_type": "slide"
    },
    "tags": []
   },
   "source": [
    "### Reinforcement Learning\n",
    "- Decision process\n",
    "- Feedback through a reward system\n",
    "- Learn a series of actions to maximize reward, vs minimizing the error in a prediction"
   ]
  },
  {
   "cell_type": "markdown",
   "id": "6cb3324b-066a-4fa2-ad40-c7aad29f85b9",
   "metadata": {
    "slideshow": {
     "slide_type": "subslide"
    },
    "tags": []
   },
   "source": [
    "![img](./images/alphago.png)  "
   ]
  },
  {
   "cell_type": "markdown",
   "id": "2ecfb928-180e-4f67-980b-75e826aa8c23",
   "metadata": {
    "slideshow": {
     "slide_type": "slide"
    },
    "tags": []
   },
   "source": [
    "## Machine Learning Concepts\n",
    "\n",
    "- Model \"fit\" trade-offs\n",
    "- Performance Evaluation\n",
    "- Explainability\n",
    "- Usefulness"
   ]
  },
  {
   "cell_type": "markdown",
   "id": "0ad61a22-432b-46d0-88c9-8503bce4fcf7",
   "metadata": {
    "slideshow": {
     "slide_type": "slide"
    },
    "tags": []
   },
   "source": [
    "## Fitting a Machine Learning algorithm to data\n",
    "\n",
    "\n",
    "![img](./images/biasvar.png)  \n",
    "Singh, Seema. “Understanding the Bias-Variance Tradeoff.” Medium, October 9, 2018. https://towardsdatascience.com/understanding-the-bias-variance-tradeoff-165e6942b229.\n"
   ]
  },
  {
   "cell_type": "markdown",
   "id": "00613a66-76b3-4cb9-ba16-cbb24e22d96e",
   "metadata": {
    "slideshow": {
     "slide_type": "slide"
    },
    "tags": []
   },
   "source": [
    "## Performance Evaluation\n",
    "### The Holdout Method\n",
    "\n",
    "![img](./images/testing_01.png)  \n",
    "Dr. Sebastian Raschka. “Model Evaluation, Model Selection, and Algorithm Selection in Machine Learning,” June 11, 2016. https://sebastianraschka.com/blog/2016/model-evaluation-selection-part1.html.\n"
   ]
  },
  {
   "cell_type": "markdown",
   "id": "06394d3e-6e80-4ec2-b636-7cc0d2eae03e",
   "metadata": {
    "slideshow": {
     "slide_type": "subslide"
    },
    "tags": []
   },
   "source": [
    "![img](./images/testing_02.png)  \n",
    "Dr. Sebastian Raschka. “Model Evaluation, Model Selection, and Algorithm Selection in Machine Learning,” June 11, 2016. https://sebastianraschka.com/blog/2016/model-evaluation-selection-part1.html.\n"
   ]
  },
  {
   "cell_type": "markdown",
   "id": "d18fc4a5-abf5-4034-89b5-d3c841156a9f",
   "metadata": {
    "slideshow": {
     "slide_type": "subslide"
    },
    "tags": []
   },
   "source": [
    "![img](./images/testing_03.png)  \n",
    "Dr. Sebastian Raschka. “Model Evaluation, Model Selection, and Algorithm Selection in Machine Learning,” June 11, 2016. https://sebastianraschka.com/blog/2016/model-evaluation-selection-part1.html.\n"
   ]
  },
  {
   "cell_type": "markdown",
   "id": "85c9c492-926a-4ce0-849e-509ff84aebfd",
   "metadata": {
    "slideshow": {
     "slide_type": "slide"
    },
    "tags": []
   },
   "source": [
    "## Explainability  \n",
    "*discuss*\n",
    "\n",
    "If a model can accurately diagnose a disease, can it tell us anything about its pathology?  \n",
    "\n",
    "What will we say to patients?"
   ]
  },
  {
   "cell_type": "markdown",
   "id": "b9d9501c-881b-46c5-822d-1a8481ce438c",
   "metadata": {
    "slideshow": {
     "slide_type": "subslide"
    },
    "tags": []
   },
   "source": [
    "#### Specificity & Sensitivity\n",
    "\n",
    "  For pretest probability near the \"Test\" threshold, SnOut, choose a sensitive test to rule out. If nearer to the treat, SpIn, choose a Specific test to rule in.\n",
    "\n",
    "![img](./images/confmatrix.png) ![img](./images/recall.png)  \n",
    "“Confusion Matrix.” In Wikipedia, May 13, 2021. https://en.wikipedia.org/w/index.php?title=Confusion_matrix&oldid=1023000804."
   ]
  },
  {
   "cell_type": "markdown",
   "id": "d079063c-d17c-4606-a884-d8a93e51ede1",
   "metadata": {
    "slideshow": {
     "slide_type": "slide"
    },
    "tags": []
   },
   "source": [
    "## Utility\n",
    "\n",
    "- Is the model useful?\n",
    "- Can it be realistically implemented?\n",
    "- What impact will it have on patients, healthcare workers, and society?"
   ]
  },
  {
   "cell_type": "markdown",
   "id": "c0e9ce1f-ee76-4fff-8f80-2533ea6bd427",
   "metadata": {
    "slideshow": {
     "slide_type": "slide"
    },
    "tags": []
   },
   "source": [
    "# The Perceptron\n",
    "\n",
    "![img](./images/perceptron.png)  \n",
    "SHARMA, SAGAR. “What the Hell Is Perceptron?” Medium, October 11, 2019. https://towardsdatascience.com/what-the-hell-is-perceptron-626217814f53.\n",
    "\n",
    "[![Open In Colab](https://colab.research.google.com/assets/colab-badge.svg)](https://colab.research.google.com/github/Clinical-Informatics-Interest-Group/Medicine-AI-Seminar/blob/main/session_2/IntroML.ipynb)"
   ]
  },
  {
   "cell_type": "markdown",
   "id": "8d3d67a2-98ce-4520-84dd-d4ca13ec1630",
   "metadata": {
    "slideshow": {
     "slide_type": "slide"
    },
    "tags": []
   },
   "source": [
    "# Bibliography  \n",
    "1. “Fast Facts.” Accessed June 23, 2021. https://about.kaiserpermanente.org/who-we-are/fast-facts.\n",
    "2. Statista. “Facebook MAU Worldwide 2020.” Accessed June 23, 2021. https://www.statista.com/statistics/264810/number-of-monthly-active-facebook-users-worldwide/.\n",
    "3. Google AI Blog. “Federated Learning: Collaborative Machine Learning without Centralized Training Data.” Accessed June 23, 2021. http://ai.googleblog.com/2017/04/federated-learning-collaborative.html.\n",
    "4. Singh, Seema. “Understanding the Bias-Variance Tradeoff.” Medium, October 9, 2018. https://towardsdatascience.com/understanding-the-bias-variance-tradeoff-165e6942b229.\n",
    "5. Dr. Sebastian Raschka. “Model Evaluation, Model Selection, and Algorithm Selection in Machine Learning,” June 11, 2016. https://sebastianraschka.com/blog/2016/model-evaluation-selection-part1.html.\n",
    "6. “Confusion Matrix.” In Wikipedia, May 13, 2021. https://en.wikipedia.org/w/index.php?title=Confusion_matrix&oldid=1023000804.\n",
    "7. SHARMA, SAGAR. “What the Hell Is Perceptron?” Medium, October 11, 2019. https://towardsdatascience.com/what-the-hell-is-perceptron-626217814f53.\n",
    "\n",
    "\n",
    "\n"
   ]
  },
  {
   "cell_type": "code",
   "execution_count": null,
   "id": "bf0cb064-0433-420f-a5d8-d9eed058de9c",
   "metadata": {},
   "outputs": [],
   "source": []
  }
 ],
 "metadata": {
  "kernelspec": {
   "display_name": "Python 3",
   "language": "python",
   "name": "python3"
  },
  "language_info": {
   "codemirror_mode": {
    "name": "ipython",
    "version": 3
   },
   "file_extension": ".py",
   "mimetype": "text/x-python",
   "name": "python",
   "nbconvert_exporter": "python",
   "pygments_lexer": "ipython3",
   "version": "3.9.5"
  },
  "toc-autonumbering": false,
  "toc-showcode": true,
  "toc-showmarkdowntxt": false,
  "toc-showtags": true
 },
 "nbformat": 4,
 "nbformat_minor": 5
}
