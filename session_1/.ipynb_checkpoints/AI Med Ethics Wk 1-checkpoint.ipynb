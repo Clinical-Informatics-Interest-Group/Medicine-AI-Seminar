{
 "cells": [
  {
   "cell_type": "markdown",
   "metadata": {
    "slideshow": {
     "slide_type": "slide"
    }
   },
   "source": [
    "# Welcome!\n",
    "![img](images/robot.jpg)"
   ]
  },
  {
   "cell_type": "markdown",
   "metadata": {
    "slideshow": {
     "slide_type": "subslide"
    }
   },
   "source": [
    "## AI and the Societal Implications of Automating Medicine  \n",
    "\n",
    "### Learning Objectives  \n",
    "* Become familiar with the terms used to describe AI and Machine Learning\n",
    "* Critically analyze the benefits and limitations of Machine Learning in medicine.\n",
    "* Consider the social, ethical, and legal implications of data technologies and AI in medicine."
   ]
  },
  {
   "cell_type": "markdown",
   "metadata": {
    "slideshow": {
     "slide_type": "subslide"
    }
   },
   "source": [
    "## Course Structure\n",
    "\n",
    "1. Robot Doctors\n",
    "2. Introduction to Machine Learning\n",
    "3. Machine Learning in Medicine\n",
    "4. COVID and AI\n",
    "5. Race and Data Technology\n",
    "6. Match"
   ]
  },
  {
   "cell_type": "markdown",
   "metadata": {
    "slideshow": {
     "slide_type": "slide"
    }
   },
   "source": [
    "# Before we begin...\n",
    "\n",
    "![img](images/meeting.jpg)"
   ]
  },
  {
   "cell_type": "markdown",
   "metadata": {
    "slideshow": {
     "slide_type": "subslide"
    }
   },
   "source": [
    "### Ice Breaker Exercise\n",
    "*discussion*\n",
    "\n",
    "1. Name\n",
    "2. Where you're from\n",
    "3. Where you went to school\n",
    "4. What you studied\n",
    "5. tweet your thoughts (in the chat) about:\n",
    " - AI\n",
    " - healthcare\n",
    " - Zoom meetings\n",
    " - starting medical school\n",
    " - anything..."
   ]
  },
  {
   "cell_type": "markdown",
   "metadata": {
    "slideshow": {
     "slide_type": "slide"
    }
   },
   "source": [
    "# Robot Doctors\n",
    "\n",
    "#### Topics for today's discussion.\n",
    "How is AI changing society?  \n",
    "Will robots replace doctors?\n",
    "\n",
    "\n",
    "#### Prepratory Materials\n",
    "[The jobs we'll lose to machines and the ones we won't](https://www.youtube.com/watch?v=gWmRkYsLzB4)  \n",
    "Anthony Goldbloom\n",
    "\n",
    "[Understanding the Ethical Dance of AI and Healthcare](https://www.youtube.com/watch?v=MDYZXB97Pws)  \n",
    "Ashleigh Kennedy\n"
   ]
  },
  {
   "cell_type": "markdown",
   "metadata": {
    "slideshow": {
     "slide_type": "slide"
    }
   },
   "source": [
    "# What is AI?\n",
    "*discussion*"
   ]
  },
  {
   "cell_type": "markdown",
   "metadata": {
    "slideshow": {
     "slide_type": "subslide"
    }
   },
   "source": [
    "**The Turing Test**  \n",
    "Do you know if you're talking to a machine or a human?\n",
    "c. 1950"
   ]
  },
  {
   "cell_type": "markdown",
   "metadata": {
    "slideshow": {
     "slide_type": "subslide"
    }
   },
   "source": [
    "**\"[AI] is the science and engineering of making intelligent machines, especially intelligent computer programs.\"** - John McCarthy c. 2004"
   ]
  },
  {
   "cell_type": "markdown",
   "metadata": {
    "slideshow": {
     "slide_type": "subslide"
    }
   },
   "source": [
    "Broadly I think of AI as a **Data Technology**."
   ]
  },
  {
   "cell_type": "markdown",
   "metadata": {
    "slideshow": {
     "slide_type": "slide"
    }
   },
   "source": [
    "# How has AI changed society?\n",
    "*discussion*"
   ]
  },
  {
   "cell_type": "markdown",
   "metadata": {
    "slideshow": {
     "slide_type": "subslide"
    }
   },
   "source": [
    "<div>\n",
    "<img src=\"images/canalytica.png\" width=\"500\"/>\n",
    "</div>"
   ]
  },
  {
   "cell_type": "markdown",
   "metadata": {
    "slideshow": {
     "slide_type": "subslide"
    }
   },
   "source": [
    "![img](images/rmercer.jpg)\n",
    "![img](images/renlogo.jpg)"
   ]
  },
  {
   "cell_type": "markdown",
   "metadata": {
    "slideshow": {
     "slide_type": "slide"
    }
   },
   "source": [
    "# Intermission\n",
    "Let's talk about data"
   ]
  },
  {
   "cell_type": "markdown",
   "metadata": {
    "slideshow": {
     "slide_type": "subslide"
    }
   },
   "source": [
    "*poll*  \n",
    "![img](images/cellphone.jpg)\n",
    "### What can data from your cell phone reveal about you?"
   ]
  },
  {
   "cell_type": "markdown",
   "metadata": {
    "slideshow": {
     "slide_type": "slide"
    }
   },
   "source": [
    "## The US lost 30 million jobs during the COVID pandemic.  \n",
    "*discussion*\n",
    "\n",
    "![img](images/timeshot.png)  \n",
    "\n",
    "## Which ones have been replaced by machines forever?  \n"
   ]
  },
  {
   "cell_type": "markdown",
   "metadata": {
    "slideshow": {
     "slide_type": "subslide"
    }
   },
   "source": [
    "- Toll workers\n",
    "- Food prep workers\n",
    "- Recycling center rubbish sorters\n",
    "- Cleaning services\n",
    "- Surveillance security\n",
    "- Call center workers\n",
    "- Lawyers"
   ]
  },
  {
   "cell_type": "markdown",
   "metadata": {
    "slideshow": {
     "slide_type": "subslide"
    }
   },
   "source": [
    "## If any repetative task is at risk of being done better by machines, what will doctors outsource?\n",
    "*discussion*"
   ]
  },
  {
   "cell_type": "markdown",
   "metadata": {
    "slideshow": {
     "slide_type": "subslide"
    }
   },
   "source": [
    "#### Lawyers?\n",
    "According to TIME magazine, JPMorgan has replaced the work of lawyers by implementing an AI to review commercial-loan agreements."
   ]
  },
  {
   "cell_type": "markdown",
   "metadata": {
    "slideshow": {
     "slide_type": "subslide"
    }
   },
   "source": [
    "![img](images/openai.png)\n"
   ]
  },
  {
   "cell_type": "markdown",
   "metadata": {
    "slideshow": {
     "slide_type": "subslide"
    }
   },
   "source": [
    "### Generative Pre-trained Transformer 3 (GPT-3)\n",
    "- Natural Language Processing (NLP)\n",
    "- 175 billion machine learning parameters\n",
    "- Trained on 45 TB text data from Wikipedia, books and more"
   ]
  },
  {
   "cell_type": "markdown",
   "metadata": {
    "slideshow": {
     "slide_type": "subslide"
    }
   },
   "source": [
    "### About those tweets we sent into the twittersphere...\n",
    "\n",
    "Machines learn from LOTS of data. Let's see what they can learn from a little data.  \n",
    "\n",
    "\n",
    "[Few-Shot Learning in Practice: GPT-Neo and the 🤗 Accelerated Inference API](https://huggingface.co/blog/few-shot-learning-gpt-neo-and-inference-api)"
   ]
  },
  {
   "cell_type": "markdown",
   "metadata": {
    "slideshow": {
     "slide_type": "subslide"
    }
   },
   "source": [
    "## How might an AI which classifies the word disabled as *negative* discriminate?  \n",
    "*discussion*\n",
    "\n",
    "![img](images/sentiment.png)"
   ]
  },
  {
   "cell_type": "markdown",
   "metadata": {
    "slideshow": {
     "slide_type": "slide"
    }
   },
   "source": [
    "# Thank you!\n",
    "\n",
    "Next week: Introduction to Machine Learning"
   ]
  },
  {
   "cell_type": "markdown",
   "metadata": {
    "slideshow": {
     "slide_type": "slide"
    }
   },
   "source": [
    "# Bibliography\n",
    "\n",
    "\n",
    "“Few-Shot Learning in Practice: GPT-Neo and the 🤗 Accelerated Inference API.” Accessed June 16, 2021. https://huggingface.co/blog/few-shot-learning-gpt-neo-and-inference-api.\n",
    "\n",
    "Zuckerman, Gregory. The Man Who Solved the Market. Portfolio / Penguin, 2019.\n",
    "\n",
    "McCarthy, John. “WHAT IS ARTIFICIAL INTELLIGENCE?,” November 24, 2004, 14.\n",
    "\n",
    "A. M. Turing (1950) Computing Machinery and Intelligence. Mind 49: 433-460.\n",
    "\n",
    "Time. “Millions of Americans Have Lost Jobs in the Pandemic — And Robots and AI Are Replacing Them Faster Than Ever.” Accessed June 16, 2021. https://time.com/5876604/machines-jobs-coronavirus/.\n"
   ]
  }
 ],
 "metadata": {
  "celltoolbar": "Slideshow",
  "kernelspec": {
   "display_name": "Python 3",
   "language": "python",
   "name": "python3"
  },
  "language_info": {
   "codemirror_mode": {
    "name": "ipython",
    "version": 3
   },
   "file_extension": ".py",
   "mimetype": "text/x-python",
   "name": "python",
   "nbconvert_exporter": "python",
   "pygments_lexer": "ipython3",
   "version": "3.7.6"
  }
 },
 "nbformat": 4,
 "nbformat_minor": 4
}
